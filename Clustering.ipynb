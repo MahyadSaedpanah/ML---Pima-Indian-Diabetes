{
 "cells": [
  {
   "cell_type": "code",
   "execution_count": 36,
   "metadata": {},
   "outputs": [],
   "source": [
    "import pandas as pd\n",
    "from sklearn.cluster import AgglomerativeClustering, KMeans\n",
    "from sklearn.metrics import silhouette_score, davies_bouldin_score, mean_squared_error\n",
    "import matplotlib.pyplot as plt\n",
    "from scipy.cluster.hierarchy import dendrogram, linkage\n",
    "from sklearn.metrics.pairwise import euclidean_distances\n",
    "import numpy as np\n",
    "import zipfile\n",
    "import os"
   ]
  },
  {
   "cell_type": "code",
   "execution_count": 37,
   "metadata": {},
   "outputs": [],
   "source": [
    "# Load the dataset\n",
    "df = pd.read_csv(\"pima_cleaned.csv\")"
   ]
  },
  {
   "cell_type": "code",
   "execution_count": 38,
   "metadata": {},
   "outputs": [
    {
     "name": "stdout",
     "output_type": "stream",
     "text": [
      "<class 'pandas.core.frame.DataFrame'>\n",
      "RangeIndex: 768 entries, 0 to 767\n",
      "Data columns (total 9 columns):\n",
      " #   Column                    Non-Null Count  Dtype  \n",
      "---  ------                    --------------  -----  \n",
      " 0   Pregnancies               768 non-null    float64\n",
      " 1   Glucose                   768 non-null    float64\n",
      " 2   BloodPressure             768 non-null    float64\n",
      " 3   SkinThickness             768 non-null    float64\n",
      " 4   Insulin                   768 non-null    float64\n",
      " 5   BMI                       768 non-null    float64\n",
      " 6   DiabetesPedigreeFunction  768 non-null    float64\n",
      " 7   Age                       768 non-null    float64\n",
      " 8   Outcome                   768 non-null    int64  \n",
      "dtypes: float64(8), int64(1)\n",
      "memory usage: 54.1 KB\n",
      "None\n"
     ]
    }
   ],
   "source": [
    "print(df.info())"
   ]
  },
  {
   "cell_type": "code",
   "execution_count": 32,
   "metadata": {},
   "outputs": [
    {
     "name": "stdout",
     "output_type": "stream",
     "text": [
      "Column Pregnancies normalized. Min: 0.0, Max: 1.0\n",
      "Column Glucose normalized. Min: 0.0, Max: 1.0\n",
      "Column BloodPressure normalized. Min: 0.0, Max: 0.9999999999999998\n",
      "Column SkinThickness normalized. Min: 0.0, Max: 1.0\n",
      "Column Insulin normalized. Min: 0.0, Max: 1.0\n",
      "Column BMI normalized. Min: 0.0, Max: 0.8425357873210637\n",
      "Column DiabetesPedigreeFunction normalized. Min: 0.0, Max: 0.9999999999999998\n",
      "Column Age normalized. Min: 0.0, Max: 1.0\n"
     ]
    }
   ],
   "source": [
    "# Number of columns excluding the last one\n",
    "num_cols = len(df.columns) - 1\n",
    "\n",
    "# Check each column\n",
    "for i in range(num_cols):\n",
    "    col = df.iloc[:, i]  # Select column i\n",
    "    min_val = col.min()\n",
    "    max_val = col.max()\n",
    "\n",
    "    # Check if normalized\n",
    "    if min_val < 0 or max_val > 1:\n",
    "        print(f\"Column {df.columns[i]} not normalized. Min: {min_val}, Max: {max_val}\")\n",
    "    else:\n",
    "        print(f\"Column {df.columns[i]} normalized. Min: {min_val}, Max: {max_val}\")"
   ]
  },
  {
   "cell_type": "code",
   "execution_count": 40,
   "metadata": {},
   "outputs": [],
   "source": [
    "# تقسیم داده‌ها به ویژگی‌ها و بردار هدف (Split data into features and target)\n",
    "X = df.drop('Outcome', axis=1)\n",
    "y = df['Outcome']"
   ]
  },
  {
   "cell_type": "code",
   "execution_count": 41,
   "metadata": {},
   "outputs": [],
   "source": [
    "# محاسبه فاصله اقلیدسی (Calculate Euclidean distance)\n",
    "distance_matrix = euclidean_distances(X)"
   ]
  }
 ],
 "metadata": {
  "kernelspec": {
   "display_name": ".venv",
   "language": "python",
   "name": "python3"
  },
  "language_info": {
   "codemirror_mode": {
    "name": "ipython",
    "version": 3
   },
   "file_extension": ".py",
   "mimetype": "text/x-python",
   "name": "python",
   "nbconvert_exporter": "python",
   "pygments_lexer": "ipython3",
   "version": "3.12.6"
  }
 },
 "nbformat": 4,
 "nbformat_minor": 2
}
