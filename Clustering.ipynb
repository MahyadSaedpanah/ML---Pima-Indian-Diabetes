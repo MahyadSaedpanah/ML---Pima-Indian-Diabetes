{
 "cells": [
  {
   "cell_type": "code",
   "execution_count": 1,
   "metadata": {},
   "outputs": [],
   "source": [
    "import pandas as pd\n",
    "import os\n",
    "import seaborn as sns\n",
    "import matplotlib.pyplot as plt\n",
    "from scipy.spatial.distance import pdist, squareform"
   ]
  },
  {
   "cell_type": "code",
   "execution_count": 2,
   "metadata": {},
   "outputs": [
    {
     "name": "stdout",
     "output_type": "stream",
     "text": [
      "Shape of dataset: (768, 9)\n",
      "First few rows:\n",
      "   Pregnancies   Glucose  BloodPressure  SkinThickness   Insulin       BMI  \\\n",
      "0     0.352941  0.670968       0.489796       0.304348  0.019832  0.314928   \n",
      "1     0.058824  0.264516       0.428571       0.239130  0.019832  0.171779   \n",
      "2     0.470588  0.896774       0.408163       0.173913  0.019832  0.104294   \n",
      "3     0.058824  0.290323       0.428571       0.173913  0.096154  0.202454   \n",
      "4     0.000000  0.600000       0.163265       0.304348  0.185096  0.509202   \n",
      "\n",
      "   DiabetesPedigreeFunction       Age  Outcome  \n",
      "0                  0.234415  0.483333        1  \n",
      "1                  0.116567  0.166667        0  \n",
      "2                  0.253629  0.183333        1  \n",
      "3                  0.038002  0.000000        0  \n",
      "4                  0.943638  0.200000        1  \n"
     ]
    }
   ],
   "source": [
    "# مسیر فایل دیتا را تنظیم کن (در صورت نیاز تغییر بده)\n",
    "# Set the file path for the dataset (modify if needed)\n",
    "file_path = os.path.join(os.getcwd(), \"pima_cleaned.csv\")\n",
    "\n",
    "# خواندن دیتاست\n",
    "# Load the dataset\n",
    "df = pd.read_csv(file_path)\n",
    "\n",
    "# نمایش اطلاعات اولیه درباره‌ی داده‌ها\n",
    "# Display initial information about the dataset\n",
    "print(\"Shape of dataset:\", df.shape)\n",
    "print(\"First few rows:\")\n",
    "print(df.head())\n"
   ]
  },
  {
   "cell_type": "code",
   "execution_count": 5,
   "metadata": {},
   "outputs": [
    {
     "name": "stdout",
     "output_type": "stream",
     "text": [
      "Shape of Euclidean distance matrix: (768, 768)\n"
     ]
    }
   ],
   "source": [
    "# حذف ستون Outcome برای محاسبه فاصله‌ها\n",
    "# Drop the Outcome column for distance calculation\n",
    "df_features = df.drop(columns=[\"Outcome\"])\n",
    "\n",
    "# محاسبه فاصله اقلیدسی بین نمونه‌ها\n",
    "# Compute Euclidean distances between samples\n",
    "euclidean_distances = squareform(pdist(df_features, metric='euclidean'))\n",
    "\n",
    "# نمایش ابعاد ماتریس فاصله برای بررسی\n",
    "# Display the shape of the distance matrix\n",
    "print(\"Shape of Euclidean distance matrix:\", euclidean_distances.shape)"
   ]
  }
 ],
 "metadata": {
  "kernelspec": {
   "display_name": ".venv",
   "language": "python",
   "name": "python3"
  },
  "language_info": {
   "codemirror_mode": {
    "name": "ipython",
    "version": 3
   },
   "file_extension": ".py",
   "mimetype": "text/x-python",
   "name": "python",
   "nbconvert_exporter": "python",
   "pygments_lexer": "ipython3",
   "version": "3.12.6"
  }
 },
 "nbformat": 4,
 "nbformat_minor": 2
}
